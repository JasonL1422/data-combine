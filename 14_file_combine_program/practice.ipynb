{
 "cells": [
  {
   "cell_type": "code",
   "execution_count": 2,
   "id": "3c255cc0",
   "metadata": {},
   "outputs": [
    {
     "name": "stdout",
     "output_type": "stream",
     "text": [
      "['Line Data 4.csv', 'Line Data 5.csv', 'Line Data 6.csv', 'Line Data 7.csv', 'Line Data 8.csv']\n"
     ]
    }
   ],
   "source": [
    "import pandas as pd\n",
    "import glob\n",
    "\n",
    "files = sorted(glob.glob('*.csv'))\n",
    "print(files)"
   ]
  },
  {
   "cell_type": "code",
   "execution_count": 4,
   "id": "63939884",
   "metadata": {},
   "outputs": [
    {
     "name": "stdout",
     "output_type": "stream",
     "text": [
      "Empty DataFrame\n",
      "Columns: []\n",
      "Index: []\n"
     ]
    }
   ],
   "source": [
    "combined_df = pd.DataFrame()\n",
    "print(combined_df)"
   ]
  },
  {
   "cell_type": "code",
   "execution_count": 13,
   "id": "07f3d2f7",
   "metadata": {},
   "outputs": [
    {
     "name": "stdout",
     "output_type": "stream",
     "text": [
      "      Distance (µm)  Cl K series (counts)  C K series (counts)\n",
      "0               0.0                     2                   61\n",
      "1               0.1                   -10                   50\n",
      "2               0.2                    -2                   35\n",
      "3               0.3                     1                   69\n",
      "4               0.4                   -14                   -8\n",
      "...             ...                   ...                  ...\n",
      "1806          180.6                    13                   30\n",
      "1807          180.7                     6                   68\n",
      "1808          180.8                    -6                   52\n",
      "1809          180.9                    16                   84\n",
      "1810          181.0                   -15                   19\n",
      "\n",
      "[1811 rows x 3 columns]\n"
     ]
    }
   ],
   "source": [
    "files = sorted(glob.glob('*.csv'))\n",
    "for i, file in enumerate(files):\n",
    "\n",
    "    df = pd.read_csv(file, usecols=[0,1,2])\n",
    "\n",
    "print(df)"
   ]
  },
  {
   "cell_type": "code",
   "execution_count": 14,
   "id": "89f44dca",
   "metadata": {},
   "outputs": [
    {
     "name": "stdout",
     "output_type": "stream",
     "text": [
      "      Distance (µm)  Cl K series (counts)  C K series (counts)  \\\n",
      "0               0.0                     2                   61   \n",
      "1               0.1                   -10                   50   \n",
      "2               0.2                    -2                   35   \n",
      "3               0.3                     1                   69   \n",
      "4               0.4                   -14                   -8   \n",
      "...             ...                   ...                  ...   \n",
      "1806          180.6                    13                   30   \n",
      "1807          180.7                     6                   68   \n",
      "1808          180.8                    -6                   52   \n",
      "1809          180.9                    16                   84   \n",
      "1810          181.0                   -15                   19   \n",
      "\n",
      "      O K series (counts)  F K series (counts)  Pd L series (counts)  \\\n",
      "0                      -4                    3                   374   \n",
      "1                      10                   -2                   435   \n",
      "2                       1                   -2                   405   \n",
      "3                      15                    4                   345   \n",
      "4                       6                   -3                   418   \n",
      "...                   ...                  ...                   ...   \n",
      "1806                   -2                   -4                   583   \n",
      "1807                   -3                   10                   520   \n",
      "1808                    9                    0                   593   \n",
      "1809                    1                   -4                   488   \n",
      "1810                    1                    1                   624   \n",
      "\n",
      "      Au M series (counts)  Al K series (counts)  S K series (counts)  \\\n",
      "0                       90                    -4                    9   \n",
      "1                      118                    -2                   -4   \n",
      "2                       36                    -3                  -11   \n",
      "3                      100                    16                   14   \n",
      "4                       98                    -9                   -4   \n",
      "...                    ...                   ...                  ...   \n",
      "1806                    74                    -8                    1   \n",
      "1807                   153                     0                   14   \n",
      "1808                    65                    11                    9   \n",
      "1809                    31                     8                    7   \n",
      "1810                    35                    -2                    7   \n",
      "\n",
      "      Unnamed: 9  \n",
      "0            NaN  \n",
      "1            NaN  \n",
      "2            NaN  \n",
      "3            NaN  \n",
      "4            NaN  \n",
      "...          ...  \n",
      "1806         NaN  \n",
      "1807         NaN  \n",
      "1808         NaN  \n",
      "1809         NaN  \n",
      "1810         NaN  \n",
      "\n",
      "[1811 rows x 10 columns]\n"
     ]
    }
   ],
   "source": [
    "files = sorted(glob.glob('*.csv'))\n",
    "for i, file in enumerate(files):\n",
    "\n",
    "    df = pd.read_csv(file)\n",
    "\n",
    "print(df)"
   ]
  },
  {
   "cell_type": "code",
   "execution_count": 22,
   "id": "b6a171dd",
   "metadata": {},
   "outputs": [
    {
     "name": "stdout",
     "output_type": "stream",
     "text": [
      "[['Line Data 8.csv', 'Line Data 8.csv']]\n",
      "1\n",
      "2\n",
      "15\n"
     ]
    }
   ],
   "source": [
    "temp1 = [[file,file]] \n",
    "print(temp1)\n",
    "print(len(temp1))\n",
    "print(len(temp1[0]))\n",
    "print(len(temp1[0][0]))"
   ]
  },
  {
   "cell_type": "code",
   "execution_count": 24,
   "id": "f8964dfb",
   "metadata": {},
   "outputs": [
    {
     "name": "stdout",
     "output_type": "stream",
     "text": [
      "     Distance (µm) Cl K series (counts)\n",
      "0  Line Data 8.csv      Line Data 8.csv\n"
     ]
    }
   ],
   "source": [
    "temp1 = [[file,file]] \n",
    "temp1 = pd.DataFrame(temp1,columns=[df.columns[0],df.columns[1]]) \n",
    "print(temp1)"
   ]
  },
  {
   "cell_type": "code",
   "execution_count": 25,
   "id": "74de0f05",
   "metadata": {},
   "outputs": [
    {
     "name": "stdout",
     "output_type": "stream",
     "text": [
      "                 0                1\n",
      "0  Line Data 8.csv  Line Data 8.csv\n"
     ]
    }
   ],
   "source": [
    "temp1 = [[file,file]] \n",
    "temp1 = pd.DataFrame(temp1) \n",
    "print(temp1)"
   ]
  },
  {
   "cell_type": "code",
   "execution_count": 10,
   "id": "7b4f31f5",
   "metadata": {},
   "outputs": [
    {
     "name": "stdout",
     "output_type": "stream",
     "text": [
      "     Distance (µm) Cl K series (counts) C K series (counts)  \\\n",
      "0  Line Data 8.csv      Line Data 8.csv     Line Data 8.csv   \n",
      "\n",
      "  O K series (counts) F K series (counts) Pd L series (counts)  \\\n",
      "0     Line Data 8.csv     Line Data 8.csv      Line Data 8.csv   \n",
      "\n",
      "  Au M series (counts) Al K series (counts) S K series (counts)  \\\n",
      "0      Line Data 8.csv      Line Data 8.csv     Line Data 8.csv   \n",
      "\n",
      "        Unnamed: 9  \n",
      "0  Line Data 8.csv  \n"
     ]
    }
   ],
   "source": [
    "files = sorted(glob.glob('*.csv'))\n",
    "combined_df = pd.DataFrame()\n",
    "\n",
    "for i, file in enumerate(files):\n",
    "    df = pd.read_csv(file)\n",
    "    filename_row = pd.DataFrame([ [file] * df.shape[1] ], columns=df.columns)\n",
    "\n",
    "print(filename_row)"
   ]
  }
 ],
 "metadata": {
  "kernelspec": {
   "display_name": ".venv",
   "language": "python",
   "name": "python3"
  },
  "language_info": {
   "codemirror_mode": {
    "name": "ipython",
    "version": 3
   },
   "file_extension": ".py",
   "mimetype": "text/x-python",
   "name": "python",
   "nbconvert_exporter": "python",
   "pygments_lexer": "ipython3",
   "version": "3.14.0"
  }
 },
 "nbformat": 4,
 "nbformat_minor": 5
}
