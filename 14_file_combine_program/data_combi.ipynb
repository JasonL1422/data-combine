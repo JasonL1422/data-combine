{
 "cells": [
  {
   "cell_type": "code",
   "execution_count": 1,
   "id": "3c255cc0",
   "metadata": {},
   "outputs": [
    {
     "name": "stdout",
     "output_type": "stream",
     "text": [
      "no .csv files found\n"
     ]
    }
   ],
   "source": [
    "from dt_functions import*\n",
    "\n",
    "combine_csv()"
   ]
  },
  {
   "cell_type": "code",
   "execution_count": 2,
   "id": "7ce258b5",
   "metadata": {},
   "outputs": [
    {
     "name": "stdout",
     "output_type": "stream",
     "text": [
      "txt combining done\n"
     ]
    }
   ],
   "source": [
    "from dt_functions import*\n",
    "\n",
    "combine_txt()"
   ]
  }
 ],
 "metadata": {
  "kernelspec": {
   "display_name": ".venv",
   "language": "python",
   "name": "python3"
  },
  "language_info": {
   "codemirror_mode": {
    "name": "ipython",
    "version": 3
   },
   "file_extension": ".py",
   "mimetype": "text/x-python",
   "name": "python",
   "nbconvert_exporter": "python",
   "pygments_lexer": "ipython3",
   "version": "3.14.0"
  }
 },
 "nbformat": 4,
 "nbformat_minor": 5
}
