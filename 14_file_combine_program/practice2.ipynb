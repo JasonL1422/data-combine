{
 "cells": [
  {
   "cell_type": "code",
   "execution_count": null,
   "id": "6f8ab182",
   "metadata": {},
   "outputs": [],
   "source": [
    "\n",
    "txt_files = sorted(glob.glob('*.txt'))\n",
    "\n",
    "combined_df = pd.DataFrame()\n",
    "print(combined_df)\n",
    "print(txt_files[0])\n",
    "\n",
    "aa = pd.read_csv(txt_files[0],delimiter = '\\t', usecols=[0,1])\n",
    "print(aa)\n",
    "\n",
    "print(aa.shape)\n",
    "print(aa.shape[0])\n",
    "print(aa.shape[1])\n",
    "print(aa.columns) #.columns returns column names.\n",
    "print(aa.columns[0])\n",
    "\n",
    "print(\"-------------------------------\")\n",
    "#print(txt_files.shape)\n",
    "#shape works for pandas, not list\n",
    "\n",
    "#DataFrame makes a list into a structured table\n",
    "dd = [['Jason', 28, 90],['Jen', 25, 89]]\n",
    "temp1 = pd.DataFrame(dd, columns=['Name','Age','Score'])\n",
    "print(temp1)\n",
    "print(temp1.shape)\n",
    "\n",
    "filename_row = pd.DataFrame([txt_files[0]] * aa.shape[1])\n",
    "print(filename_row)\n",
    "filename_row = pd.DataFrame([txt_files[0]] * aa.shape[1]).T\n",
    "print(filename_row)\n",
    "\n",
    "filename_row.columns = aa.columns\n",
    "print(filename_row.columns)\n",
    "\n",
    "print(\"-------------------------------\")\n",
    "print(aa)\n",
    "temp2 = aa.reset_index(drop=True)\n",
    "print(temp2)\n",
    "\n",
    "print(\"-------------------------------\")\n",
    "t1 = [[txt_files[0],0],[aa.columns[0],aa.columns[1]]]\n",
    "print(t1)\n"
   ]
  }
 ],
 "metadata": {
  "kernelspec": {
   "display_name": ".venv",
   "language": "python",
   "name": "python3"
  },
  "language_info": {
   "codemirror_mode": {
    "name": "ipython",
    "version": 3
   },
   "file_extension": ".py",
   "mimetype": "text/x-python",
   "name": "python",
   "nbconvert_exporter": "python",
   "pygments_lexer": "ipython3",
   "version": "3.14.0"
  }
 },
 "nbformat": 4,
 "nbformat_minor": 5
}
